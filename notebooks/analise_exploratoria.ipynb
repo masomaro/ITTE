{
 "cells": [
  {
   "cell_type": "markdown",
   "metadata": {},
   "source": [
    "# Projeto 2 - E-Redes - Transição Energética\n",
    "\n",
    "Análise dos dados em bruto para detetar paadrões e formas de enriquecer os dados\n",
    "\n",
    "# Análise exploratória\n",
    "\n",
    "Indicadores:\n",
    "- Autoconsumo\n",
    "    - A1: Total de unidades de produção para autoconsumo\n",
    "        - A1.1: Total de unidades de produção para autoconsumo\n",
    "    - A2: Novas unidades de produção para Autoconsumo\n",
    "    - A3: Ligações à rede\n",
    "    \n",
    "\n",
    "- Energias Renováveis\n",
    "    - E1: Energia Injetada na Rede de Distribuição\n",
    "    - E2: Energia Produzida Total Nacional\n",
    "\n",
    "- Iluminação Pública\n",
    "    - **I1: Caracterização de luminárias de Iluminação Pública**\n",
    "\n",
    "            - Total de 9.434 registos;\n",
    "            - Tem 1015 valores nulos na coluna \"potência instalada\";\n",
    "            - Organizado por Distrito, concelho e/ou freguesia;\n",
    "            - Tipo de lâmpada: \n",
    "                    - Sódio;\n",
    "                    - Outros/Não definido;\n",
    "                    - LED;\n",
    "                    - Mercúrio;\n",
    "                    - Iodeto Metálico;\n",
    "                    - Indução;\n",
    "                    - Fluorescente.\n",
    "            - Tempo: Março de 2025 (?) perguntar se estes dados so começaram a ser disponibilizados em março de 2025\n",
    "\n",
    "    - **I2: Caracterização de Pontos de Consumo (CPEs), com contratos ativos**\n",
    "\n",
    "            Características dos CPEs por:\n",
    "                - Distrito, concelho ou freguesia;\n",
    "                - Tipo de instalação: Outros, Não doméstico, Doméstico e Iluminação Pública;\n",
    "                - Entre janeiro 2022 e fevereiro 2025\n",
    "    \n",
    "- Contadores inteligentes\n",
    "    - C1: Número de contratos de energia ativos por tipo de contador\n",
    "    - C2: Número de locais de consumo de baixa tensão com Leituras Remotas\n",
    "\n",
    "- Mobilidade Eléctrica\n",
    "    - M1: Novas ligações à rede associados à mobilidade elétrica\n",
    "    - M2: Número de locais de consumo de baixa tensão com recolha de Diagramas de Carga\n",
    "    - M3: Pontos de ligação para postos de Carregamento de Veículos Elétricos\n",
    "    \n",
    "    \n",
    "    \n"
   ]
  },
  {
   "cell_type": "markdown",
   "metadata": {},
   "source": [
    "# Setup\n",
    "\n",
    "Configurações para correr o código"
   ]
  },
  {
   "cell_type": "code",
   "execution_count": 179,
   "metadata": {},
   "outputs": [],
   "source": [
    "import pandas as pd \n",
    "import numpy as np \n",
    "import os \n",
    "import geopandas as gpd\n",
    "import matplotlib.pyplot as plt\n",
    "import pyarrow\n",
    "from osgeo import gdal"
   ]
  },
  {
   "cell_type": "code",
   "execution_count": 155,
   "metadata": {},
   "outputs": [
    {
     "name": "stdout",
     "output_type": "stream",
     "text": [
      "C:\\Files\\GIThub_projects\\ITTE\n"
     ]
    },
    {
     "name": "stderr",
     "output_type": "stream",
     "text": [
      "<>:4: SyntaxWarning: invalid escape sequence '\\F'\n",
      "<>:4: SyntaxWarning: invalid escape sequence '\\F'\n",
      "C:\\Users\\magda\\AppData\\Local\\Temp\\ipykernel_14628\\921853709.py:4: SyntaxWarning: invalid escape sequence '\\F'\n",
      "  os.chdir('C:\\Files\\GIThub_projects\\ITTE')  # Changes the working directory\n"
     ]
    }
   ],
   "source": [
    "# Garantir diretorias\n",
    "\n",
    "print(os.getcwd())  # Prints the current working directory\n",
    "os.chdir('C:\\Files\\GIThub_projects\\ITTE')  # Changes the working directory"
   ]
  },
  {
   "cell_type": "markdown",
   "metadata": {},
   "source": [
    "# Definição de unidade de análise\n",
    "Unidade de análise será por municípios.\n",
    "Vamos utilizar a shapefile obteida no repositório da e-redes, já dividida por municípios ou concelhos.\n"
   ]
  },
  {
   "cell_type": "code",
   "execution_count": 159,
   "metadata": {},
   "outputs": [
    {
     "name": "stderr",
     "output_type": "stream",
     "text": [
      "<>:3: SyntaxWarning: invalid escape sequence '\\g'\n",
      "<>:3: SyntaxWarning: invalid escape sequence '\\g'\n",
      "C:\\Users\\magda\\AppData\\Local\\Temp\\ipykernel_14628\\2795659773.py:3: SyntaxWarning: invalid escape sequence '\\g'\n",
      "  concelhos = gpd.read_file('data\\georef-portugal-concelho-millesime.shp')\n"
     ]
    }
   ],
   "source": [
    "gdal.SetConfigOption('SHAPE_RESTORE_SHX', 'YES')\n",
    "\n",
    "concelhos = gpd.read_file('data\\georef-portugal-concelho-millesime.shp')"
   ]
  },
  {
   "cell_type": "code",
   "execution_count": null,
   "metadata": {},
   "outputs": [
    {
     "name": "stdout",
     "output_type": "stream",
     "text": [
      "<class 'geopandas.geodataframe.GeoDataFrame'>\n",
      "RangeIndex: 308 entries, 0 to 307\n",
      "Data columns (total 11 columns):\n",
      " #   Column          Non-Null Count  Dtype   \n",
      "---  ------          --------------  -----   \n",
      " 0   geo_point_2d    308 non-null    geometry\n",
      " 1   geo_shape       308 non-null    geometry\n",
      " 2   year            308 non-null    object  \n",
      " 3   dis_code        308 non-null    object  \n",
      " 4   dis_name        308 non-null    object  \n",
      " 5   con_code        308 non-null    object  \n",
      " 6   con_name        308 non-null    object  \n",
      " 7   con_name_upper  308 non-null    object  \n",
      " 8   con_name_lower  308 non-null    object  \n",
      " 9   con_area_code   308 non-null    object  \n",
      " 10  con_type        308 non-null    object  \n",
      "dtypes: geometry(2), object(9)\n",
      "memory usage: 26.6+ KB\n"
     ]
    },
    {
     "name": "stderr",
     "output_type": "stream",
     "text": [
      "<>:2: SyntaxWarning: invalid escape sequence '\\m'\n",
      "<>:2: SyntaxWarning: invalid escape sequence '\\m'\n",
      "C:\\Users\\magda\\AppData\\Local\\Temp\\ipykernel_14628\\1189638394.py:2: SyntaxWarning: invalid escape sequence '\\m'\n",
      "  concelhos_pq = gpd.read_parquet('data\\municipalities-portugal.parquet')\n"
     ]
    }
   ],
   "source": [
    "# Mapa de municípios em ficheiro parquet\n",
    "concelhos_pq = gpd.read_parquet('data\\municipalities-portugal.parquet')\n",
    "\n",
    "concelhos_pq.info()\n"
   ]
  },
  {
   "cell_type": "code",
   "execution_count": 188,
   "metadata": {},
   "outputs": [],
   "source": [
    "original_gdf = concelhos_pq.merge(concelhos, left_on='geo_shape', right_on='geometry')\n"
   ]
  },
  {
   "cell_type": "code",
   "execution_count": null,
   "metadata": {},
   "outputs": [],
   "source": []
  },
  {
   "cell_type": "markdown",
   "metadata": {},
   "source": [
    "# Autoconsumo"
   ]
  },
  {
   "cell_type": "code",
   "execution_count": 149,
   "metadata": {},
   "outputs": [
    {
     "name": "stderr",
     "output_type": "stream",
     "text": [
      "<>:2: SyntaxWarning: invalid escape sequence '\\A'\n",
      "<>:2: SyntaxWarning: invalid escape sequence '\\A'\n",
      "C:\\Users\\magda\\AppData\\Local\\Temp\\ipykernel_14628\\1898159327.py:2: SyntaxWarning: invalid escape sequence '\\A'\n",
      "  dfA1 = pd.read_parquet('data\\Autoconsumo\\8-unidades-de-producao-para-autoconsumo.parquet')\n"
     ]
    }
   ],
   "source": [
    "#dfA1 = pd.read_csv(r'data/Autoconsumo/8-unidades-de-producao-para-autoconsumo.csv', delimiter=';')\n",
    "dfA1 = pd.read_parquet('data\\Autoconsumo\\8-unidades-de-producao-para-autoconsumo.parquet')\n",
    "dfA2 = pd.read_csv(r'data\\Autoconsumo\\16-pedidos-concluidos-plrs.csv', delimiter = ';')\n",
    "\n",
    "dfA3 = pd.read_csv(r'data\\Autoconsumo\\26-centrais.csv', delimiter=';')\n",
    "\n",
    "dfA11 = pd.read_csv(r'data\\Autoconsumo\\total-de-unidades-de-producao-para-autoconsumo-auxiliar.csv', delimiter=';')"
   ]
  },
  {
   "cell_type": "markdown",
   "metadata": {},
   "source": [
    "## A1 - Total de unidades de produção"
   ]
  },
  {
   "cell_type": "code",
   "execution_count": 150,
   "metadata": {},
   "outputs": [
    {
     "data": {
      "text/plain": [
       "(75808, 10)"
      ]
     },
     "execution_count": 150,
     "metadata": {},
     "output_type": "execute_result"
    }
   ],
   "source": [
    "dfA1.shape"
   ]
  },
  {
   "cell_type": "code",
   "execution_count": 151,
   "metadata": {},
   "outputs": [
    {
     "name": "stdout",
     "output_type": "stream",
     "text": [
      "<class 'pandas.core.frame.DataFrame'>\n",
      "RangeIndex: 75808 entries, 0 to 75807\n",
      "Data columns (total 10 columns):\n",
      " #   Column                            Non-Null Count  Dtype  \n",
      "---  ------                            --------------  -----  \n",
      " 0   trimestre                         75808 non-null  object \n",
      " 1   distrito                          75808 non-null  object \n",
      " 2   concelho                          75808 non-null  object \n",
      " 3   freguesias                        75808 non-null  object \n",
      " 4   escalao_de_potencia_instalada     75808 non-null  object \n",
      " 5   numero_de_instalacoes             75808 non-null  int64  \n",
      " 6   potencia_total_instalada_upac_kw  75808 non-null  float64\n",
      " 7   coddistrito                       75808 non-null  object \n",
      " 8   coddistritoconcelho               75808 non-null  object \n",
      " 9   coddistritoconcelhofreguesia      75808 non-null  object \n",
      "dtypes: float64(1), int64(1), object(8)\n",
      "memory usage: 5.8+ MB\n"
     ]
    }
   ],
   "source": [
    "dfA1.info()"
   ]
  },
  {
   "cell_type": "code",
   "execution_count": 152,
   "metadata": {},
   "outputs": [
    {
     "data": {
      "text/plain": [
       "trimestre                           0\n",
       "distrito                            0\n",
       "concelho                            0\n",
       "freguesias                          0\n",
       "escalao_de_potencia_instalada       0\n",
       "numero_de_instalacoes               0\n",
       "potencia_total_instalada_upac_kw    0\n",
       "coddistrito                         0\n",
       "coddistritoconcelho                 0\n",
       "coddistritoconcelhofreguesia        0\n",
       "dtype: int64"
      ]
     },
     "execution_count": 152,
     "metadata": {},
     "output_type": "execute_result"
    }
   ],
   "source": [
    "dfA1.isnull().sum()"
   ]
  },
  {
   "cell_type": "code",
   "execution_count": 183,
   "metadata": {},
   "outputs": [
    {
     "name": "stdout",
     "output_type": "stream",
     "text": [
      "<class 'geopandas.geodataframe.GeoDataFrame'>\n",
      "RangeIndex: 0 entries\n",
      "Data columns (total 22 columns):\n",
      " #   Column                            Non-Null Count  Dtype   \n",
      "---  ------                            --------------  -----   \n",
      " 0   geo_point_2d                      0 non-null      geometry\n",
      " 1   geo_shape                         0 non-null      geometry\n",
      " 2   year                              0 non-null      object  \n",
      " 3   dis_code                          0 non-null      object  \n",
      " 4   dis_name                          0 non-null      object  \n",
      " 5   con_code                          0 non-null      object  \n",
      " 6   con_name                          0 non-null      object  \n",
      " 7   con_name_upper                    0 non-null      object  \n",
      " 8   con_name_lower                    0 non-null      object  \n",
      " 9   con_area_code                     0 non-null      object  \n",
      " 10  con_type                          0 non-null      object  \n",
      " 11  geometry                          0 non-null      geometry\n",
      " 12  trimestre                         0 non-null      object  \n",
      " 13  distrito                          0 non-null      object  \n",
      " 14  concelho                          0 non-null      object  \n",
      " 15  freguesias                        0 non-null      object  \n",
      " 16  escalao_de_potencia_instalada     0 non-null      object  \n",
      " 17  numero_de_instalacoes             0 non-null      int64   \n",
      " 18  potencia_total_instalada_upac_kw  0 non-null      float64 \n",
      " 19  coddistrito                       0 non-null      object  \n",
      " 20  coddistritoconcelho               0 non-null      object  \n",
      " 21  coddistritoconcelhofreguesia      0 non-null      object  \n",
      "dtypes: float64(1), geometry(3), int64(1), object(17)\n",
      "memory usage: 132.0+ bytes\n"
     ]
    }
   ],
   "source": [
    "gdfA1=original_gdf.merge(dfA1, left_on='con_code', right_on='coddistritoconcelho')\n",
    "\n",
    "gdfA1.info()\n"
   ]
  },
  {
   "cell_type": "code",
   "execution_count": 185,
   "metadata": {},
   "outputs": [
    {
     "data": {
      "text/html": [
       "<div>\n",
       "<style scoped>\n",
       "    .dataframe tbody tr th:only-of-type {\n",
       "        vertical-align: middle;\n",
       "    }\n",
       "\n",
       "    .dataframe tbody tr th {\n",
       "        vertical-align: top;\n",
       "    }\n",
       "\n",
       "    .dataframe thead th {\n",
       "        text-align: right;\n",
       "    }\n",
       "</style>\n",
       "<table border=\"1\" class=\"dataframe\">\n",
       "  <thead>\n",
       "    <tr style=\"text-align: right;\">\n",
       "      <th></th>\n",
       "      <th>geo_point_2d</th>\n",
       "      <th>geo_shape</th>\n",
       "      <th>year</th>\n",
       "      <th>dis_code</th>\n",
       "      <th>dis_name</th>\n",
       "      <th>con_code</th>\n",
       "      <th>con_name</th>\n",
       "      <th>con_name_upper</th>\n",
       "      <th>con_name_lower</th>\n",
       "      <th>con_area_code</th>\n",
       "      <th>...</th>\n",
       "      <th>trimestre</th>\n",
       "      <th>distrito</th>\n",
       "      <th>concelho</th>\n",
       "      <th>freguesias</th>\n",
       "      <th>escalao_de_potencia_instalada</th>\n",
       "      <th>numero_de_instalacoes</th>\n",
       "      <th>potencia_total_instalada_upac_kw</th>\n",
       "      <th>coddistrito</th>\n",
       "      <th>coddistritoconcelho</th>\n",
       "      <th>coddistritoconcelhofreguesia</th>\n",
       "    </tr>\n",
       "  </thead>\n",
       "  <tbody>\n",
       "  </tbody>\n",
       "</table>\n",
       "<p>0 rows × 22 columns</p>\n",
       "</div>"
      ],
      "text/plain": [
       "Empty GeoDataFrame\n",
       "Columns: [geo_point_2d, geo_shape, year, dis_code, dis_name, con_code, con_name, con_name_upper, con_name_lower, con_area_code, con_type, geometry, trimestre, distrito, concelho, freguesias, escalao_de_potencia_instalada, numero_de_instalacoes, potencia_total_instalada_upac_kw, coddistrito, coddistritoconcelho, coddistritoconcelhofreguesia]\n",
       "Index: []\n",
       "\n",
       "[0 rows x 22 columns]"
      ]
     },
     "execution_count": 185,
     "metadata": {},
     "output_type": "execute_result"
    }
   ],
   "source": [
    "gdfA1"
   ]
  },
  {
   "cell_type": "markdown",
   "metadata": {},
   "source": [
    "### A1.1 Total de unidades de produção para autoconsumo "
   ]
  },
  {
   "cell_type": "code",
   "execution_count": 37,
   "metadata": {},
   "outputs": [
    {
     "data": {
      "text/plain": [
       "(75808, 14)"
      ]
     },
     "execution_count": 37,
     "metadata": {},
     "output_type": "execute_result"
    }
   ],
   "source": [
    "dfA11.shape"
   ]
  },
  {
   "cell_type": "code",
   "execution_count": 38,
   "metadata": {},
   "outputs": [
    {
     "name": "stdout",
     "output_type": "stream",
     "text": [
      "<class 'pandas.core.frame.DataFrame'>\n",
      "RangeIndex: 75808 entries, 0 to 75807\n",
      "Data columns (total 14 columns):\n",
      " #   Column                          Non-Null Count  Dtype  \n",
      "---  ------                          --------------  -----  \n",
      " 0   Concelho                        75808 non-null  object \n",
      " 1   Quarter                         75808 non-null  object \n",
      " 2   Installed power range (kW)      75808 non-null  object \n",
      " 3   Number of installations         75808 non-null  int64  \n",
      " 4   Total installed power (kW)      75808 non-null  float64\n",
      " 5   CPEs (#)                        75808 non-null  float64\n",
      " 6   relacao_instalacoes_por_cpe     75808 non-null  float64\n",
      " 7   relacao_potencia_por_cpe        75808 non-null  float64\n",
      " 8   District                        75808 non-null  object \n",
      " 9   Parishes                        75808 non-null  object \n",
      " 10  DistrictCode                    75808 non-null  int64  \n",
      " 11  DistrictMunicipalityCode        75808 non-null  int64  \n",
      " 12  DistrictMunicipalityParishCode  75808 non-null  object \n",
      " 13  concelho_quarter                75808 non-null  object \n",
      "dtypes: float64(4), int64(3), object(7)\n",
      "memory usage: 8.1+ MB\n"
     ]
    }
   ],
   "source": [
    "dfA11.info()"
   ]
  },
  {
   "cell_type": "markdown",
   "metadata": {},
   "source": [
    "## A2:  Novas unidades de produção para Autoconsumo"
   ]
  },
  {
   "cell_type": "code",
   "execution_count": 59,
   "metadata": {},
   "outputs": [
    {
     "data": {
      "text/plain": [
       "(2508, 6)"
      ]
     },
     "execution_count": 59,
     "metadata": {},
     "output_type": "execute_result"
    }
   ],
   "source": [
    "dfA2.shape"
   ]
  },
  {
   "cell_type": "code",
   "execution_count": 60,
   "metadata": {},
   "outputs": [
    {
     "name": "stdout",
     "output_type": "stream",
     "text": [
      "<class 'pandas.core.frame.DataFrame'>\n",
      "RangeIndex: 2508 entries, 0 to 2507\n",
      "Data columns (total 6 columns):\n",
      " #   Column                                    Non-Null Count  Dtype  \n",
      "---  ------                                    --------------  -----  \n",
      " 0   Ano                                       2508 non-null   int64  \n",
      " 1   Semestre                                  2508 non-null   int64  \n",
      " 2   data semestre                             2508 non-null   object \n",
      " 3   Concelho                                  2502 non-null   object \n",
      " 4   Pedidos de Ligação à Rede Executados (#)  2508 non-null   float64\n",
      " 5   CodConcelho                               2502 non-null   float64\n",
      "dtypes: float64(2), int64(2), object(2)\n",
      "memory usage: 117.7+ KB\n"
     ]
    }
   ],
   "source": [
    "dfA2.info()"
   ]
  },
  {
   "cell_type": "code",
   "execution_count": 62,
   "metadata": {},
   "outputs": [
    {
     "data": {
      "text/plain": [
       "Ano                                         0\n",
       "Semestre                                    0\n",
       "data semestre                               0\n",
       "Concelho                                    6\n",
       "Pedidos de Ligação à Rede Executados (#)    0\n",
       "CodConcelho                                 6\n",
       "dtype: int64"
      ]
     },
     "execution_count": 62,
     "metadata": {},
     "output_type": "execute_result"
    }
   ],
   "source": [
    "dfA2.isnull().sum()"
   ]
  },
  {
   "cell_type": "markdown",
   "metadata": {},
   "source": [
    "## A3: Ligações à rede"
   ]
  },
  {
   "cell_type": "code",
   "execution_count": 39,
   "metadata": {},
   "outputs": [
    {
     "data": {
      "text/plain": [
       "(2223, 6)"
      ]
     },
     "execution_count": 39,
     "metadata": {},
     "output_type": "execute_result"
    }
   ],
   "source": [
    "dfA3.shape"
   ]
  },
  {
   "cell_type": "code",
   "execution_count": 40,
   "metadata": {},
   "outputs": [
    {
     "name": "stdout",
     "output_type": "stream",
     "text": [
      "<class 'pandas.core.frame.DataFrame'>\n",
      "RangeIndex: 2223 entries, 0 to 2222\n",
      "Data columns (total 6 columns):\n",
      " #   Column                    Non-Null Count  Dtype  \n",
      "---  ------                    --------------  -----  \n",
      " 0   Ano                       2223 non-null   int64  \n",
      " 1   Semestre                  2223 non-null   int64  \n",
      " 2   Concelho                  2223 non-null   object \n",
      " 3   Potência de Ligação (kW)  2223 non-null   float64\n",
      " 4   Processos Concluídos (#)  2223 non-null   float64\n",
      " 5   CodConcelho               2223 non-null   int64  \n",
      "dtypes: float64(2), int64(3), object(1)\n",
      "memory usage: 104.3+ KB\n"
     ]
    }
   ],
   "source": [
    "dfA3.info()"
   ]
  },
  {
   "cell_type": "code",
   "execution_count": 41,
   "metadata": {},
   "outputs": [
    {
     "data": {
      "text/plain": [
       "Ano                         0\n",
       "Semestre                    0\n",
       "Concelho                    0\n",
       "Potência de Ligação (kW)    0\n",
       "Processos Concluídos (#)    0\n",
       "CodConcelho                 0\n",
       "dtype: int64"
      ]
     },
     "execution_count": 41,
     "metadata": {},
     "output_type": "execute_result"
    }
   ],
   "source": [
    "dfA3.isnull().sum()"
   ]
  },
  {
   "cell_type": "markdown",
   "metadata": {},
   "source": [
    "# Energias Renováveis"
   ]
  },
  {
   "cell_type": "code",
   "execution_count": 7,
   "metadata": {},
   "outputs": [],
   "source": [
    "dfE1 = pd.read_csv(r'data/Energias_renovaveis/energia-injetada-na-rede-de-distribuicao.csv', delimiter=';')\n",
    "\n",
    "dfE2 = pd.read_csv(r'data/Energias_renovaveis/energia-produzida-total-nacional.csv', delimiter=';')"
   ]
  },
  {
   "cell_type": "markdown",
   "metadata": {},
   "source": [
    "## E1: Energia Injetada na Rede de Distribuição"
   ]
  },
  {
   "cell_type": "code",
   "execution_count": 63,
   "metadata": {},
   "outputs": [
    {
     "data": {
      "text/plain": [
       "(78057, 12)"
      ]
     },
     "execution_count": 63,
     "metadata": {},
     "output_type": "execute_result"
    }
   ],
   "source": [
    "dfE1.shape"
   ]
  },
  {
   "cell_type": "code",
   "execution_count": 64,
   "metadata": {},
   "outputs": [
    {
     "name": "stdout",
     "output_type": "stream",
     "text": [
      "<class 'pandas.core.frame.DataFrame'>\n",
      "RangeIndex: 78057 entries, 0 to 78056\n",
      "Data columns (total 12 columns):\n",
      " #   Column                    Non-Null Count  Dtype  \n",
      "---  ------                    --------------  -----  \n",
      " 0   Data/Hora                 78057 non-null  object \n",
      " 1   Dia                       78057 non-null  int64  \n",
      " 2   Mês                       78057 non-null  int64  \n",
      " 3   Ano                       78057 non-null  int64  \n",
      " 4   Data                      78057 non-null  object \n",
      " 5   Hora                      78057 non-null  object \n",
      " 6   Cogeração (kWh)           78057 non-null  float64\n",
      " 7   Eólica (kWh)              78057 non-null  float64\n",
      " 8   Fotovoltaica (kWh)        78057 non-null  float64\n",
      " 9   Hídrica (kWh)             78057 non-null  float64\n",
      " 10  Outras Tecnologias (kWh)  78057 non-null  float64\n",
      " 11  Rede Distribuição (kWh)   78057 non-null  float64\n",
      "dtypes: float64(6), int64(3), object(3)\n",
      "memory usage: 7.1+ MB\n"
     ]
    }
   ],
   "source": [
    "dfE1.info()"
   ]
  },
  {
   "cell_type": "code",
   "execution_count": 65,
   "metadata": {},
   "outputs": [
    {
     "data": {
      "text/plain": [
       "Data/Hora                   0\n",
       "Dia                         0\n",
       "Mês                         0\n",
       "Ano                         0\n",
       "Data                        0\n",
       "Hora                        0\n",
       "Cogeração (kWh)             0\n",
       "Eólica (kWh)                0\n",
       "Fotovoltaica (kWh)          0\n",
       "Hídrica (kWh)               0\n",
       "Outras Tecnologias (kWh)    0\n",
       "Rede Distribuição (kWh)     0\n",
       "dtype: int64"
      ]
     },
     "execution_count": 65,
     "metadata": {},
     "output_type": "execute_result"
    }
   ],
   "source": [
    "dfE1.isnull().sum()"
   ]
  },
  {
   "cell_type": "markdown",
   "metadata": {},
   "source": [
    "## E2: Energia Produzida Total Nacional"
   ]
  },
  {
   "cell_type": "code",
   "execution_count": 98,
   "metadata": {},
   "outputs": [
    {
     "data": {
      "text/plain": [
       "(78057, 9)"
      ]
     },
     "execution_count": 98,
     "metadata": {},
     "output_type": "execute_result"
    }
   ],
   "source": [
    "dfE2.shape"
   ]
  },
  {
   "cell_type": "code",
   "execution_count": 99,
   "metadata": {},
   "outputs": [
    {
     "name": "stdout",
     "output_type": "stream",
     "text": [
      "<class 'pandas.core.frame.DataFrame'>\n",
      "RangeIndex: 78057 entries, 0 to 78056\n",
      "Data columns (total 9 columns):\n",
      " #   Column                 Non-Null Count  Dtype  \n",
      "---  ------                 --------------  -----  \n",
      " 0   Data/Hora              78057 non-null  object \n",
      " 1   Dia                    78057 non-null  int64  \n",
      " 2   Mês                    78057 non-null  int64  \n",
      " 3   Ano                    78057 non-null  int64  \n",
      " 4   Data                   78057 non-null  object \n",
      " 5   Hora                   78057 non-null  object \n",
      " 6   Mercado (kWh)          78057 non-null  float64\n",
      " 7   Regime Especial (kWh)  78057 non-null  float64\n",
      " 8   Total (kWh)            78057 non-null  float64\n",
      "dtypes: float64(3), int64(3), object(3)\n",
      "memory usage: 5.4+ MB\n"
     ]
    }
   ],
   "source": [
    "dfE2.info()"
   ]
  },
  {
   "cell_type": "code",
   "execution_count": 100,
   "metadata": {},
   "outputs": [
    {
     "data": {
      "text/plain": [
       "Data/Hora                0\n",
       "Dia                      0\n",
       "Mês                      0\n",
       "Ano                      0\n",
       "Data                     0\n",
       "Hora                     0\n",
       "Mercado (kWh)            0\n",
       "Regime Especial (kWh)    0\n",
       "Total (kWh)              0\n",
       "dtype: int64"
      ]
     },
     "execution_count": 100,
     "metadata": {},
     "output_type": "execute_result"
    }
   ],
   "source": [
    "dfE2.isnull().sum()"
   ]
  },
  {
   "cell_type": "markdown",
   "metadata": {},
   "source": [
    "# Iluminação Pública"
   ]
  },
  {
   "cell_type": "code",
   "execution_count": 101,
   "metadata": {},
   "outputs": [],
   "source": [
    "dfI1 = pd.read_csv(r'data/Iluminacao_publica/cadastro_iluminacao_publica.csv', delimiter=';')\n",
    "\n",
    "dfI2 = pd.read_csv(r'data/Iluminacao_publica/20-caracterizacao-pes-contrato-ativo.csv', delimiter=';')"
   ]
  },
  {
   "cell_type": "markdown",
   "metadata": {},
   "source": [
    "## I1 - Caracterização de luminárias de Iluminação Pública"
   ]
  },
  {
   "cell_type": "code",
   "execution_count": 102,
   "metadata": {},
   "outputs": [
    {
     "data": {
      "text/plain": [
       "(9434, 11)"
      ]
     },
     "execution_count": 102,
     "metadata": {},
     "output_type": "execute_result"
    }
   ],
   "source": [
    "dfI1.shape"
   ]
  },
  {
   "cell_type": "code",
   "execution_count": 103,
   "metadata": {},
   "outputs": [
    {
     "name": "stdout",
     "output_type": "stream",
     "text": [
      "<class 'pandas.core.frame.DataFrame'>\n",
      "RangeIndex: 9434 entries, 0 to 9433\n",
      "Data columns (total 11 columns):\n",
      " #   Column                        Non-Null Count  Dtype  \n",
      "---  ------                        --------------  -----  \n",
      " 0   ano                           9434 non-null   int64  \n",
      " 1   mes                           9434 non-null   int64  \n",
      " 2   Distrito                      9434 non-null   object \n",
      " 3   Concelho                      9434 non-null   object \n",
      " 4   Freguesia                     9434 non-null   object \n",
      " 5   tipo_de_lampada               9434 non-null   object \n",
      " 6   luminarias                    9434 non-null   float64\n",
      " 7   potencia instalada total (W)  8419 non-null   float64\n",
      " 8   CodDistrito                   9434 non-null   int64  \n",
      " 9   CodDistritoConcelho           9434 non-null   int64  \n",
      " 10  coddistritoconcelhofreguesia  9434 non-null   object \n",
      "dtypes: float64(2), int64(4), object(5)\n",
      "memory usage: 810.9+ KB\n"
     ]
    }
   ],
   "source": [
    "dfI1.info()"
   ]
  },
  {
   "cell_type": "code",
   "execution_count": 104,
   "metadata": {},
   "outputs": [
    {
     "data": {
      "text/plain": [
       "ano                                0\n",
       "mes                                0\n",
       "Distrito                           0\n",
       "Concelho                           0\n",
       "Freguesia                          0\n",
       "tipo_de_lampada                    0\n",
       "luminarias                         0\n",
       "potencia instalada total (W)    1015\n",
       "CodDistrito                        0\n",
       "CodDistritoConcelho                0\n",
       "coddistritoconcelhofreguesia       0\n",
       "dtype: int64"
      ]
     },
     "execution_count": 104,
     "metadata": {},
     "output_type": "execute_result"
    }
   ],
   "source": [
    "dfI1.isnull().sum()"
   ]
  },
  {
   "cell_type": "code",
   "execution_count": 105,
   "metadata": {},
   "outputs": [
    {
     "data": {
      "text/plain": [
       "Index(['ano', 'mes', 'Distrito', 'Concelho', 'Freguesia', 'tipo_de_lampada',\n",
       "       'luminarias', 'potencia instalada total (W)', 'CodDistrito',\n",
       "       'CodDistritoConcelho', 'coddistritoconcelhofreguesia'],\n",
       "      dtype='object')"
      ]
     },
     "execution_count": 105,
     "metadata": {},
     "output_type": "execute_result"
    }
   ],
   "source": [
    "#Dataframe: registos de iluminação pública\n",
    "dfI1.columns"
   ]
  },
  {
   "cell_type": "code",
   "execution_count": 106,
   "metadata": {},
   "outputs": [
    {
     "data": {
      "text/plain": [
       "array(['Sódio', 'Outros/Não definido', 'LED', 'Mercúrio',\n",
       "       'Iodeto Metálico', 'Indução', 'Fluorescente'], dtype=object)"
      ]
     },
     "execution_count": 106,
     "metadata": {},
     "output_type": "execute_result"
    }
   ],
   "source": [
    "# Tipos de lampada\n",
    "dfI1['tipo_de_lampada'].unique()"
   ]
  },
  {
   "cell_type": "code",
   "execution_count": 107,
   "metadata": {},
   "outputs": [
    {
     "data": {
      "text/plain": [
       "array([2025])"
      ]
     },
     "execution_count": 107,
     "metadata": {},
     "output_type": "execute_result"
    }
   ],
   "source": [
    "dfI1['ano'].unique()"
   ]
  },
  {
   "cell_type": "code",
   "execution_count": 108,
   "metadata": {},
   "outputs": [
    {
     "data": {
      "text/plain": [
       "0       2025-3\n",
       "1       2025-3\n",
       "2       2025-3\n",
       "3       2025-3\n",
       "4       2025-3\n",
       "         ...  \n",
       "9429    2025-3\n",
       "9430    2025-3\n",
       "9431    2025-3\n",
       "9432    2025-3\n",
       "9433    2025-3\n",
       "Name: Data, Length: 9434, dtype: object"
      ]
     },
     "execution_count": 108,
     "metadata": {},
     "output_type": "execute_result"
    }
   ],
   "source": [
    "#Concatenar ano e mes\n",
    "dfI1['Data']=(dfI1['ano'].astype(str) \n",
    "                + '-' \n",
    "                + dfI1['mes'].astype(str))\n",
    "\n",
    "dfI1['Data']"
   ]
  },
  {
   "cell_type": "code",
   "execution_count": 109,
   "metadata": {},
   "outputs": [
    {
     "data": {
      "text/plain": [
       "array(['2025-3'], dtype=object)"
      ]
     },
     "execution_count": 109,
     "metadata": {},
     "output_type": "execute_result"
    }
   ],
   "source": [
    "dfI1['Data'].unique()"
   ]
  },
  {
   "cell_type": "markdown",
   "metadata": {},
   "source": [
    "## I2 - Caracterização de CPEs com contratos ativos"
   ]
  },
  {
   "cell_type": "code",
   "execution_count": 110,
   "metadata": {},
   "outputs": [
    {
     "data": {
      "text/plain": [
       "(598165, 12)"
      ]
     },
     "execution_count": 110,
     "metadata": {},
     "output_type": "execute_result"
    }
   ],
   "source": [
    "dfI2.shape"
   ]
  },
  {
   "cell_type": "code",
   "execution_count": 111,
   "metadata": {},
   "outputs": [
    {
     "name": "stdout",
     "output_type": "stream",
     "text": [
      "<class 'pandas.core.frame.DataFrame'>\n",
      "RangeIndex: 598165 entries, 0 to 598164\n",
      "Data columns (total 12 columns):\n",
      " #   Column                        Non-Null Count   Dtype \n",
      "---  ------                        --------------   ----- \n",
      " 0   Ano                           598165 non-null  int64 \n",
      " 1   mes                           598165 non-null  int64 \n",
      " 2   Data                          598165 non-null  object\n",
      " 3   Distrito                      598165 non-null  object\n",
      " 4   Concelho                      598165 non-null  object\n",
      " 5   Freguesia                     598165 non-null  object\n",
      " 6   tipo_de_instalacao            598165 non-null  object\n",
      " 7   nivel_de_tensao               598165 non-null  object\n",
      " 8   cpes                          598165 non-null  int64 \n",
      " 9   CodDistrito                   598165 non-null  int64 \n",
      " 10  CodDistritoConcelho           598165 non-null  int64 \n",
      " 11  coddistritoconcelhofreguesia  598165 non-null  object\n",
      "dtypes: int64(5), object(7)\n",
      "memory usage: 54.8+ MB\n"
     ]
    }
   ],
   "source": [
    "dfI2.info()"
   ]
  },
  {
   "cell_type": "code",
   "execution_count": 112,
   "metadata": {},
   "outputs": [
    {
     "data": {
      "text/plain": [
       "Ano                             0\n",
       "mes                             0\n",
       "Data                            0\n",
       "Distrito                        0\n",
       "Concelho                        0\n",
       "Freguesia                       0\n",
       "tipo_de_instalacao              0\n",
       "nivel_de_tensao                 0\n",
       "cpes                            0\n",
       "CodDistrito                     0\n",
       "CodDistritoConcelho             0\n",
       "coddistritoconcelhofreguesia    0\n",
       "dtype: int64"
      ]
     },
     "execution_count": 112,
     "metadata": {},
     "output_type": "execute_result"
    }
   ],
   "source": [
    "dfI2.isnull().sum()"
   ]
  },
  {
   "cell_type": "code",
   "execution_count": 113,
   "metadata": {},
   "outputs": [
    {
     "data": {
      "text/plain": [
       "array(['Outros', 'Não Doméstico', 'Doméstico', 'Iluminação Pública'],\n",
       "      dtype=object)"
      ]
     },
     "execution_count": 113,
     "metadata": {},
     "output_type": "execute_result"
    }
   ],
   "source": [
    "dfI2['tipo_de_instalacao'].unique()"
   ]
  },
  {
   "cell_type": "code",
   "execution_count": 114,
   "metadata": {},
   "outputs": [
    {
     "data": {
      "text/plain": [
       "array(['2022-08', '2024-12', '2024-02', '2022-05', '2022-01', '2024-11',\n",
       "       '2024-05', '2024-08', '2024-06', '2024-10', '2022-10', '2022-06',\n",
       "       '2023-06', '2023-05', '2023-02', '2023-03', '2024-07', '2022-03',\n",
       "       '2023-07', '2024-01', '2023-01', '2025-01', '2022-12', '2024-09',\n",
       "       '2023-04', '2022-04', '2025-02', '2023-11', '2022-09', '2024-04',\n",
       "       '2023-08', '2022-11', '2023-12', '2023-09', '2022-07', '2022-02',\n",
       "       '2024-03', '2023-10'], dtype=object)"
      ]
     },
     "execution_count": 114,
     "metadata": {},
     "output_type": "execute_result"
    }
   ],
   "source": [
    "dfI2['Data'].unique()\n"
   ]
  },
  {
   "cell_type": "code",
   "execution_count": 115,
   "metadata": {},
   "outputs": [
    {
     "data": {
      "text/html": [
       "<div>\n",
       "<style scoped>\n",
       "    .dataframe tbody tr th:only-of-type {\n",
       "        vertical-align: middle;\n",
       "    }\n",
       "\n",
       "    .dataframe tbody tr th {\n",
       "        vertical-align: top;\n",
       "    }\n",
       "\n",
       "    .dataframe thead th {\n",
       "        text-align: right;\n",
       "    }\n",
       "</style>\n",
       "<table border=\"1\" class=\"dataframe\">\n",
       "  <thead>\n",
       "    <tr style=\"text-align: right;\">\n",
       "      <th></th>\n",
       "      <th>Ano</th>\n",
       "      <th>mes</th>\n",
       "      <th>Data</th>\n",
       "      <th>Distrito</th>\n",
       "      <th>Concelho</th>\n",
       "      <th>Freguesia</th>\n",
       "      <th>tipo_de_instalacao</th>\n",
       "      <th>nivel_de_tensao</th>\n",
       "      <th>cpes</th>\n",
       "      <th>CodDistrito</th>\n",
       "      <th>CodDistritoConcelho</th>\n",
       "      <th>coddistritoconcelhofreguesia</th>\n",
       "    </tr>\n",
       "  </thead>\n",
       "  <tbody>\n",
       "    <tr>\n",
       "      <th>227902</th>\n",
       "      <td>2022</td>\n",
       "      <td>1</td>\n",
       "      <td>2022-01</td>\n",
       "      <td>Santarém</td>\n",
       "      <td>Torres Novas</td>\n",
       "      <td>Torres Novas (São Pedro), Lapas e Ribeira Branca</td>\n",
       "      <td>Não Doméstico</td>\n",
       "      <td>Baixa Tensão Normal</td>\n",
       "      <td>831</td>\n",
       "      <td>14</td>\n",
       "      <td>1419</td>\n",
       "      <td>141921</td>\n",
       "    </tr>\n",
       "    <tr>\n",
       "      <th>305436</th>\n",
       "      <td>2022</td>\n",
       "      <td>1</td>\n",
       "      <td>2022-01</td>\n",
       "      <td>Santarém</td>\n",
       "      <td>Alcanena</td>\n",
       "      <td>Serra de Santo António</td>\n",
       "      <td>Doméstico</td>\n",
       "      <td>Baixa Tensão Normal</td>\n",
       "      <td>394</td>\n",
       "      <td>14</td>\n",
       "      <td>1402</td>\n",
       "      <td>140209</td>\n",
       "    </tr>\n",
       "    <tr>\n",
       "      <th>305437</th>\n",
       "      <td>2022</td>\n",
       "      <td>1</td>\n",
       "      <td>2022-01</td>\n",
       "      <td>Viseu</td>\n",
       "      <td>Moimenta da Beira</td>\n",
       "      <td>Pêra Velha, Aldeia de Nacomba e Ariz</td>\n",
       "      <td>Iluminação Pública</td>\n",
       "      <td>Baixa Tensão Normal</td>\n",
       "      <td>5</td>\n",
       "      <td>18</td>\n",
       "      <td>1807</td>\n",
       "      <td>180722</td>\n",
       "    </tr>\n",
       "    <tr>\n",
       "      <th>305438</th>\n",
       "      <td>2022</td>\n",
       "      <td>1</td>\n",
       "      <td>2022-01</td>\n",
       "      <td>Viseu</td>\n",
       "      <td>Armamar</td>\n",
       "      <td>Aldeias</td>\n",
       "      <td>Iluminação Pública</td>\n",
       "      <td>Baixa Tensão Normal</td>\n",
       "      <td>3</td>\n",
       "      <td>18</td>\n",
       "      <td>1801</td>\n",
       "      <td>180101</td>\n",
       "    </tr>\n",
       "    <tr>\n",
       "      <th>305439</th>\n",
       "      <td>2022</td>\n",
       "      <td>1</td>\n",
       "      <td>2022-01</td>\n",
       "      <td>Aveiro</td>\n",
       "      <td>Arouca</td>\n",
       "      <td>Fermedo</td>\n",
       "      <td>Não Doméstico</td>\n",
       "      <td>Baixa Tensão Normal</td>\n",
       "      <td>115</td>\n",
       "      <td>1</td>\n",
       "      <td>104</td>\n",
       "      <td>010411</td>\n",
       "    </tr>\n",
       "  </tbody>\n",
       "</table>\n",
       "</div>"
      ],
      "text/plain": [
       "         Ano  mes     Data  Distrito           Concelho  \\\n",
       "227902  2022    1  2022-01  Santarém       Torres Novas   \n",
       "305436  2022    1  2022-01  Santarém           Alcanena   \n",
       "305437  2022    1  2022-01     Viseu  Moimenta da Beira   \n",
       "305438  2022    1  2022-01     Viseu            Armamar   \n",
       "305439  2022    1  2022-01    Aveiro             Arouca   \n",
       "\n",
       "                                               Freguesia  tipo_de_instalacao  \\\n",
       "227902  Torres Novas (São Pedro), Lapas e Ribeira Branca       Não Doméstico   \n",
       "305436                            Serra de Santo António           Doméstico   \n",
       "305437              Pêra Velha, Aldeia de Nacomba e Ariz  Iluminação Pública   \n",
       "305438                                           Aldeias  Iluminação Pública   \n",
       "305439                                           Fermedo       Não Doméstico   \n",
       "\n",
       "            nivel_de_tensao  cpes  CodDistrito  CodDistritoConcelho  \\\n",
       "227902  Baixa Tensão Normal   831           14                 1419   \n",
       "305436  Baixa Tensão Normal   394           14                 1402   \n",
       "305437  Baixa Tensão Normal     5           18                 1807   \n",
       "305438  Baixa Tensão Normal     3           18                 1801   \n",
       "305439  Baixa Tensão Normal   115            1                  104   \n",
       "\n",
       "       coddistritoconcelhofreguesia  \n",
       "227902                       141921  \n",
       "305436                       140209  \n",
       "305437                       180722  \n",
       "305438                       180101  \n",
       "305439                       010411  "
      ]
     },
     "execution_count": 115,
     "metadata": {},
     "output_type": "execute_result"
    }
   ],
   "source": [
    "dfI2 = dfI2.sort_values(by='Data')\n",
    "\n",
    "dfI2.head(5)"
   ]
  },
  {
   "cell_type": "markdown",
   "metadata": {},
   "source": [
    "# Contadores inteligentes"
   ]
  },
  {
   "cell_type": "code",
   "execution_count": 116,
   "metadata": {},
   "outputs": [],
   "source": [
    "dfC1=pd.read_csv(r'data\\Contadores_inteligentes\\21-contadores-de-energia.csv', delimiter=';')\n",
    "\n",
    "dfC2=pd.read_csv(r'data/Contadores_inteligentes/23-leituras-recolhidas-remotamente.csv', delimiter=';')"
   ]
  },
  {
   "cell_type": "markdown",
   "metadata": {},
   "source": [
    "## C1: Número de contratos de energia ativos por tipo de contador"
   ]
  },
  {
   "cell_type": "code",
   "execution_count": 117,
   "metadata": {},
   "outputs": [
    {
     "data": {
      "text/plain": [
       "(187602, 12)"
      ]
     },
     "execution_count": 117,
     "metadata": {},
     "output_type": "execute_result"
    }
   ],
   "source": [
    "dfC1.shape"
   ]
  },
  {
   "cell_type": "code",
   "execution_count": 118,
   "metadata": {},
   "outputs": [
    {
     "name": "stdout",
     "output_type": "stream",
     "text": [
      "<class 'pandas.core.frame.DataFrame'>\n",
      "RangeIndex: 187602 entries, 0 to 187601\n",
      "Data columns (total 12 columns):\n",
      " #   Column                       Non-Null Count   Dtype \n",
      "---  ------                       --------------   ----- \n",
      " 0   Ano                          187602 non-null  int64 \n",
      " 1   Mês                          187602 non-null  int64 \n",
      " 2   Data                         187602 non-null  object\n",
      " 3   Distrito                     187600 non-null  object\n",
      " 4   Concelho                     187600 non-null  object\n",
      " 5   Freguesia                    187600 non-null  object\n",
      " 6   Inclui contador inteligente  187602 non-null  object\n",
      " 7   Número de CPE's              187602 non-null  int64 \n",
      " 8   Código Distrito              187602 non-null  int64 \n",
      " 9   Código Concelho              187602 non-null  int64 \n",
      " 10  Código Freguesia             187602 non-null  object\n",
      " 11  Contrato Ativo               187602 non-null  object\n",
      "dtypes: int64(5), object(7)\n",
      "memory usage: 17.2+ MB\n"
     ]
    }
   ],
   "source": [
    "dfC1.info()"
   ]
  },
  {
   "cell_type": "code",
   "execution_count": 119,
   "metadata": {},
   "outputs": [
    {
     "data": {
      "text/plain": [
       "Ano                            0\n",
       "Mês                            0\n",
       "Data                           0\n",
       "Distrito                       2\n",
       "Concelho                       2\n",
       "Freguesia                      2\n",
       "Inclui contador inteligente    0\n",
       "Número de CPE's                0\n",
       "Código Distrito                0\n",
       "Código Concelho                0\n",
       "Código Freguesia               0\n",
       "Contrato Ativo                 0\n",
       "dtype: int64"
      ]
     },
     "execution_count": 119,
     "metadata": {},
     "output_type": "execute_result"
    }
   ],
   "source": [
    "dfC1.isnull().sum()"
   ]
  },
  {
   "cell_type": "markdown",
   "metadata": {},
   "source": [
    "## C2: Número de locais de consumo de baixa tensão com Leituras Remotas"
   ]
  },
  {
   "cell_type": "code",
   "execution_count": 120,
   "metadata": {},
   "outputs": [
    {
     "data": {
      "text/plain": [
       "(74163, 10)"
      ]
     },
     "execution_count": 120,
     "metadata": {},
     "output_type": "execute_result"
    }
   ],
   "source": [
    "dfC2.shape"
   ]
  },
  {
   "cell_type": "code",
   "execution_count": 121,
   "metadata": {},
   "outputs": [
    {
     "name": "stdout",
     "output_type": "stream",
     "text": [
      "<class 'pandas.core.frame.DataFrame'>\n",
      "RangeIndex: 74163 entries, 0 to 74162\n",
      "Data columns (total 10 columns):\n",
      " #   Column                        Non-Null Count  Dtype \n",
      "---  ------                        --------------  ----- \n",
      " 0   Ano                           74163 non-null  int64 \n",
      " 1   Mes                           74163 non-null  int64 \n",
      " 2   data                          74163 non-null  object\n",
      " 3   Distrito                      74163 non-null  object\n",
      " 4   Concelho                      74163 non-null  object\n",
      " 5   Freguesia                     74163 non-null  object\n",
      " 6   CPEs com Leituras (#)         74163 non-null  int64 \n",
      " 7   CodDistrito                   74163 non-null  int64 \n",
      " 8   CodDistritoConcelho           74163 non-null  int64 \n",
      " 9   CodDistritoConcelhoFreguesia  74163 non-null  object\n",
      "dtypes: int64(5), object(5)\n",
      "memory usage: 5.7+ MB\n"
     ]
    }
   ],
   "source": [
    "# Dataframe C1: Contadores de energia\n",
    "dfC2.info()"
   ]
  },
  {
   "cell_type": "code",
   "execution_count": 122,
   "metadata": {},
   "outputs": [
    {
     "data": {
      "text/plain": [
       "Ano                             0\n",
       "Mes                             0\n",
       "data                            0\n",
       "Distrito                        0\n",
       "Concelho                        0\n",
       "Freguesia                       0\n",
       "CPEs com Leituras (#)           0\n",
       "CodDistrito                     0\n",
       "CodDistritoConcelho             0\n",
       "CodDistritoConcelhoFreguesia    0\n",
       "dtype: int64"
      ]
     },
     "execution_count": 122,
     "metadata": {},
     "output_type": "execute_result"
    }
   ],
   "source": [
    "# Dataframe C2: Leituras recolhidas remotamente\n",
    "dfC2.isnull().sum()"
   ]
  },
  {
   "cell_type": "markdown",
   "metadata": {},
   "source": [
    "# Mobilidade Eléctrica"
   ]
  },
  {
   "cell_type": "code",
   "execution_count": 123,
   "metadata": {},
   "outputs": [],
   "source": [
    "dfM1 = pd.read_csv(r'data/Mobilidade_eletrica/9-plr-mobilidade-eletrica.csv',delimiter=';')\n",
    "\n",
    "dfM2 = pd.read_csv(r'data\\Mobilidade_eletrica\\22-diagrama-de-carga-por-instalacao.csv',delimiter=';')\n",
    "\n",
    "dfM3 = pd.read_csv(r'data/Mobilidade_eletrica/postos_carregamento_ves.csv',delimiter=';')"
   ]
  },
  {
   "cell_type": "markdown",
   "metadata": {},
   "source": [
    "## M1: Novas ligações à rede associados à mobilidade elétrica"
   ]
  },
  {
   "cell_type": "code",
   "execution_count": 124,
   "metadata": {},
   "outputs": [
    {
     "data": {
      "text/plain": [
       "(619, 5)"
      ]
     },
     "execution_count": 124,
     "metadata": {},
     "output_type": "execute_result"
    }
   ],
   "source": [
    "#Dataframe M1: Pedidos de ligação\n",
    "\n",
    "dfM1.shape"
   ]
  },
  {
   "cell_type": "code",
   "execution_count": 125,
   "metadata": {},
   "outputs": [
    {
     "name": "stdout",
     "output_type": "stream",
     "text": [
      "<class 'pandas.core.frame.DataFrame'>\n",
      "RangeIndex: 619 entries, 0 to 618\n",
      "Data columns (total 5 columns):\n",
      " #   Column                                    Non-Null Count  Dtype  \n",
      "---  ------                                    --------------  -----  \n",
      " 0   Ano                                       619 non-null    int64  \n",
      " 1   Semestre                                  619 non-null    int64  \n",
      " 2   Concelho                                  619 non-null    object \n",
      " 3   Pedidos de Ligação à Rede Executados (#)  619 non-null    float64\n",
      " 4   CodConcelho                               619 non-null    int64  \n",
      "dtypes: float64(1), int64(3), object(1)\n",
      "memory usage: 24.3+ KB\n"
     ]
    }
   ],
   "source": [
    "dfM1.info()"
   ]
  },
  {
   "cell_type": "code",
   "execution_count": 126,
   "metadata": {},
   "outputs": [
    {
     "data": {
      "text/plain": [
       "Ano                                         0\n",
       "Semestre                                    0\n",
       "Concelho                                    0\n",
       "Pedidos de Ligação à Rede Executados (#)    0\n",
       "CodConcelho                                 0\n",
       "dtype: int64"
      ]
     },
     "execution_count": 126,
     "metadata": {},
     "output_type": "execute_result"
    }
   ],
   "source": [
    "dfM1.isnull().sum()"
   ]
  },
  {
   "cell_type": "markdown",
   "metadata": {},
   "source": [
    "## M2: Número de locais de consumo de baixa tensão com recolha de Diagramas de Carga"
   ]
  },
  {
   "cell_type": "code",
   "execution_count": 127,
   "metadata": {},
   "outputs": [
    {
     "data": {
      "text/plain": [
       "(71505, 11)"
      ]
     },
     "execution_count": 127,
     "metadata": {},
     "output_type": "execute_result"
    }
   ],
   "source": [
    "#Dataframe M2: Diagrama de carga por instalação\n",
    "\n",
    "dfM2.shape"
   ]
  },
  {
   "cell_type": "code",
   "execution_count": 128,
   "metadata": {},
   "outputs": [
    {
     "name": "stdout",
     "output_type": "stream",
     "text": [
      "<class 'pandas.core.frame.DataFrame'>\n",
      "RangeIndex: 71505 entries, 0 to 71504\n",
      "Data columns (total 11 columns):\n",
      " #   Column                        Non-Null Count  Dtype \n",
      "---  ------                        --------------  ----- \n",
      " 0   Ano                           71505 non-null  int64 \n",
      " 1   Mês                           71505 non-null  int64 \n",
      " 2   data                          71505 non-null  object\n",
      " 3   Distrito                      71505 non-null  object\n",
      " 4   Concelho                      71505 non-null  object\n",
      " 5   Freguesia                     71505 non-null  object\n",
      " 6   Inclui Mobilidade Elétrica    71505 non-null  object\n",
      " 7   CPEs com DCs Recolhidos (#)   71505 non-null  int64 \n",
      " 8   CodDistrito                   71505 non-null  int64 \n",
      " 9   CodDistritoConcelho           71505 non-null  int64 \n",
      " 10  CodDistritoConcelhoFreguesia  71505 non-null  object\n",
      "dtypes: int64(5), object(6)\n",
      "memory usage: 6.0+ MB\n"
     ]
    }
   ],
   "source": [
    "dfM2.info()"
   ]
  },
  {
   "cell_type": "code",
   "execution_count": 129,
   "metadata": {},
   "outputs": [
    {
     "data": {
      "text/plain": [
       "Trimestre                                     0\n",
       "Distrito                                      0\n",
       "Concelho                                      0\n",
       "Freguesia                                     0\n",
       "Potência Máxima Admissível (kW)               0\n",
       "Pontos de ligação para instalações de PCVE    0\n",
       "CodDistrito                                   0\n",
       "CodDistritoConcelho                           0\n",
       "CodDistritoConcelhoFreguesia                  0\n",
       "dtype: int64"
      ]
     },
     "execution_count": 129,
     "metadata": {},
     "output_type": "execute_result"
    }
   ],
   "source": [
    "dfM3.isnull().sum()"
   ]
  },
  {
   "cell_type": "markdown",
   "metadata": {},
   "source": [
    "## M3: Pontos de ligação para postos de Carregamento de Veículos Elétricos"
   ]
  },
  {
   "cell_type": "code",
   "execution_count": 130,
   "metadata": {},
   "outputs": [
    {
     "data": {
      "text/plain": [
       "(26716, 9)"
      ]
     },
     "execution_count": 130,
     "metadata": {},
     "output_type": "execute_result"
    }
   ],
   "source": [
    "#Datafram M3: Postos de carregamento de VE\n",
    "\n",
    "dfM3.shape"
   ]
  },
  {
   "cell_type": "code",
   "execution_count": 131,
   "metadata": {},
   "outputs": [
    {
     "name": "stdout",
     "output_type": "stream",
     "text": [
      "<class 'pandas.core.frame.DataFrame'>\n",
      "RangeIndex: 26716 entries, 0 to 26715\n",
      "Data columns (total 9 columns):\n",
      " #   Column                                      Non-Null Count  Dtype  \n",
      "---  ------                                      --------------  -----  \n",
      " 0   Trimestre                                   26716 non-null  object \n",
      " 1   Distrito                                    26716 non-null  object \n",
      " 2   Concelho                                    26716 non-null  object \n",
      " 3   Freguesia                                   26716 non-null  object \n",
      " 4   Potência Máxima Admissível (kW)             26716 non-null  float64\n",
      " 5   Pontos de ligação para instalações de PCVE  26716 non-null  int64  \n",
      " 6   CodDistrito                                 26716 non-null  int64  \n",
      " 7   CodDistritoConcelho                         26716 non-null  int64  \n",
      " 8   CodDistritoConcelhoFreguesia                26716 non-null  object \n",
      "dtypes: float64(1), int64(3), object(5)\n",
      "memory usage: 1.8+ MB\n"
     ]
    }
   ],
   "source": [
    "dfM3.info()"
   ]
  },
  {
   "cell_type": "code",
   "execution_count": 132,
   "metadata": {},
   "outputs": [
    {
     "data": {
      "text/plain": [
       "Trimestre                                     0\n",
       "Distrito                                      0\n",
       "Concelho                                      0\n",
       "Freguesia                                     0\n",
       "Potência Máxima Admissível (kW)               0\n",
       "Pontos de ligação para instalações de PCVE    0\n",
       "CodDistrito                                   0\n",
       "CodDistritoConcelho                           0\n",
       "CodDistritoConcelhoFreguesia                  0\n",
       "dtype: int64"
      ]
     },
     "execution_count": 132,
     "metadata": {},
     "output_type": "execute_result"
    }
   ],
   "source": [
    "dfM3.isnull().sum()"
   ]
  }
 ],
 "metadata": {
  "kernelspec": {
   "display_name": "Python 3",
   "language": "python",
   "name": "python3"
  },
  "language_info": {
   "codemirror_mode": {
    "name": "ipython",
    "version": 3
   },
   "file_extension": ".py",
   "mimetype": "text/x-python",
   "name": "python",
   "nbconvert_exporter": "python",
   "pygments_lexer": "ipython3",
   "version": "3.13.2"
  }
 },
 "nbformat": 4,
 "nbformat_minor": 2
}
