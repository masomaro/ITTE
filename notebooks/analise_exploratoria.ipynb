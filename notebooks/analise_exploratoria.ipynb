{
 "cells": [
  {
   "cell_type": "markdown",
   "metadata": {},
   "source": [
    "# Projeto 2 - E-Redes - Transição Energética\n",
    "\n",
    "Análise dos dados em bruto para detetar paadrões e formas de enriquecer os dados\n",
    "\n",
    "# Análise exploratória\n",
    "\n",
    "Indicadores:\n",
    "- Autoconsumo\n",
    "    - A1: Total de unidades de produção para autoconsumo\n",
    "    - A2: Novas unidades de produção para Autoconsumo\n",
    "    - A3: Ligações à rede\n",
    "    - A4: Total de unidades de produção para autoconsumo - Auxiliar\n",
    "\n",
    "- Energias Renováveis\n",
    "    - E1: Energia Injetada na Rede de Distribuição\n",
    "    - E2: Energia Produzida Total Nacional\n",
    "\n",
    "- Iluminação Pública\n",
    "    - I1: Caracterização de luminárias de Iluminação Pública\n",
    "    - I2: Caracterização de Pontos de Consumo (CPEs), com contratos ativos\n",
    "    \n",
    "- Contadores inteligentes\n",
    "    - C1: Número de contratos de energia ativos por tipo de contador\n",
    "    - C2: Número de locais de consumo de baixa tensão com Leituras Remotas\n",
    "\n",
    "- Mobilidade Eléctrica\n",
    "    - M1: Novas ligações à rede associados à mobilidade elétrica\n",
    "    - M2: Número de locais de consumo de baixa tensão com recolha de Diagramas de Carga\n",
    "    - M3: Pontos de ligação para postos de Carregamento de Veículos Elétricos\n",
    "    \n",
    "    \n",
    "    \n"
   ]
  },
  {
   "cell_type": "markdown",
   "metadata": {},
   "source": [
    "# Setup\n",
    "\n",
    "Configurações para correr o código"
   ]
  },
  {
   "cell_type": "code",
   "execution_count": 2,
   "metadata": {},
   "outputs": [],
   "source": [
    "import pandas as pd \n",
    "import numpy as np \n",
    "import os "
   ]
  },
  {
   "cell_type": "code",
   "execution_count": 7,
   "metadata": {},
   "outputs": [
    {
     "name": "stdout",
     "output_type": "stream",
     "text": [
      "c:\\Files\\GIThub_projects\\ITTE\\notebooks\n"
     ]
    },
    {
     "name": "stderr",
     "output_type": "stream",
     "text": [
      "<>:4: SyntaxWarning: invalid escape sequence '\\F'\n",
      "<>:4: SyntaxWarning: invalid escape sequence '\\F'\n",
      "C:\\Users\\magda\\AppData\\Local\\Temp\\ipykernel_16536\\921853709.py:4: SyntaxWarning: invalid escape sequence '\\F'\n",
      "  os.chdir('C:\\Files\\GIThub_projects\\ITTE')  # Changes the working directory\n"
     ]
    }
   ],
   "source": [
    "# Garantir diretorias\n",
    "\n",
    "print(os.getcwd())  # Prints the current working directory\n",
    "os.chdir('C:\\Files\\GIThub_projects\\ITTE')  # Changes the working directory"
   ]
  },
  {
   "cell_type": "markdown",
   "metadata": {},
   "source": [
    "# Autoconsumo"
   ]
  },
  {
   "cell_type": "code",
   "execution_count": 26,
   "metadata": {},
   "outputs": [],
   "source": [
    "dfA1 = pd.read_csv(r'data/Autoconsumo/8-unidades-de-producao-para-autoconsumo.csv', delimiter=';')\n",
    "\n",
    "dfA2 = pd.read_csv(r'data\\Autoconsumo\\16-pedidos-concluidos-plrs.csv', delimiter = ';')\n",
    "\n",
    "dfA3 = pd.read_csv(r'data\\Autoconsumo\\26-centrais.csv', delimiter=';')\n",
    "\n",
    "dfA4 = pd.read_csv(r'data\\Autoconsumo\\total-de-unidades-de-producao-para-autoconsumo-auxiliar.csv', delimiter=';')"
   ]
  },
  {
   "cell_type": "markdown",
   "metadata": {},
   "source": [
    "# Energias Renováveis"
   ]
  },
  {
   "cell_type": "code",
   "execution_count": 27,
   "metadata": {},
   "outputs": [],
   "source": [
    "dfE1 = pd.read_csv(r'data/Energias_renovaveis/energia-injetada-na-rede-de-distribuicao.csv', delimiter=';')\n",
    "\n",
    "dfE2 = pd.read_csv(r'data/Energias_renovaveis/energia-produzida-total-nacional.csv', delimiter=';')"
   ]
  },
  {
   "cell_type": "markdown",
   "metadata": {},
   "source": [
    "# Iluminação Pública"
   ]
  },
  {
   "cell_type": "code",
   "execution_count": 9,
   "metadata": {},
   "outputs": [],
   "source": [
    "dfI1 = pd.read_csv(r'data/Iluminacao_publica/20-caracterizacao-pes-contrato-ativo.csv', delimiter=';')\n",
    "\n",
    "dfI2 = pd.read_csv(r'data/Iluminacao_publica/cadastro_iluminacao_publica.csv', delimiter=';')"
   ]
  },
  {
   "cell_type": "code",
   "execution_count": 15,
   "metadata": {},
   "outputs": [
    {
     "data": {
      "text/plain": [
       "Index(['Ano', 'mes', 'Data', 'Distrito', 'Concelho', 'Freguesia',\n",
       "       'tipo_de_instalacao', 'nivel_de_tensao', 'cpes', 'CodDistrito',\n",
       "       'CodDistritoConcelho', 'coddistritoconcelhofreguesia'],\n",
       "      dtype='object')"
      ]
     },
     "execution_count": 15,
     "metadata": {},
     "output_type": "execute_result"
    }
   ],
   "source": [
    "#Dataframe: contratos ativos\n",
    "\n",
    "dfI1.columns"
   ]
  },
  {
   "cell_type": "code",
   "execution_count": 16,
   "metadata": {},
   "outputs": [
    {
     "data": {
      "text/plain": [
       "Index(['ano', 'mes', 'Distrito', 'Concelho', 'Freguesia', 'tipo_de_lampada',\n",
       "       'luminarias', 'potencia instalada total (W)', 'CodDistrito',\n",
       "       'CodDistritoConcelho', 'coddistritoconcelhofreguesia'],\n",
       "      dtype='object')"
      ]
     },
     "execution_count": 16,
     "metadata": {},
     "output_type": "execute_result"
    }
   ],
   "source": [
    "#Dataframe: registos de iluminação pública\n",
    "dfI2.columns"
   ]
  },
  {
   "cell_type": "markdown",
   "metadata": {},
   "source": [
    "# Contadores inteligentes"
   ]
  },
  {
   "cell_type": "code",
   "execution_count": 17,
   "metadata": {},
   "outputs": [],
   "source": [
    "dfC1=pd.read_csv(r'data\\Contadores_inteligentes\\21-contadores-de-energia.csv', delimiter=';')\n",
    "\n",
    "dfC2=pd.read_csv(r'data/Contadores_inteligentes/23-leituras-recolhidas-remotamente.csv', delimiter=';')"
   ]
  },
  {
   "cell_type": "code",
   "execution_count": null,
   "metadata": {},
   "outputs": [
    {
     "data": {
      "text/plain": [
       "Index(['Ano', 'Mês', 'Data', 'Distrito', 'Concelho', 'Freguesia',\n",
       "       'Inclui contador inteligente', 'Número de CPE's', 'Código Distrito',\n",
       "       'Código Concelho', 'Código Freguesia', 'Contrato Ativo'],\n",
       "      dtype='object')"
      ]
     },
     "execution_count": 20,
     "metadata": {},
     "output_type": "execute_result"
    }
   ],
   "source": [
    "# Dataframe C1: Contadores de energia\n",
    "dfC1.columns"
   ]
  },
  {
   "cell_type": "code",
   "execution_count": null,
   "metadata": {},
   "outputs": [
    {
     "data": {
      "text/plain": [
       "Index(['Ano', 'Mes', 'data', 'Distrito', 'Concelho', 'Freguesia',\n",
       "       'CPEs com Leituras (#)', 'CodDistrito', 'CodDistritoConcelho',\n",
       "       'CodDistritoConcelhoFreguesia'],\n",
       "      dtype='object')"
      ]
     },
     "execution_count": 21,
     "metadata": {},
     "output_type": "execute_result"
    }
   ],
   "source": [
    "# Dataframe C2: Leituras recolhidas remotamente\n",
    "dfC2.columns"
   ]
  },
  {
   "cell_type": "markdown",
   "metadata": {},
   "source": [
    "# Mobilidade Eléctrica"
   ]
  },
  {
   "cell_type": "code",
   "execution_count": 22,
   "metadata": {},
   "outputs": [],
   "source": [
    "dfM1 = pd.read_csv(r'data/Mobilidade_eletrica/9-plr-mobilidade-eletrica.csv',delimiter=';')\n",
    "\n",
    "dfM2 = pd.read_csv(r'data\\Mobilidade_eletrica\\22-diagrama-de-carga-por-instalacao.csv',delimiter=';')\n",
    "\n",
    "dfM3 = pd.read_csv(r'data/Mobilidade_eletrica/postos_carregamento_ves.csv',delimiter=';')"
   ]
  },
  {
   "cell_type": "code",
   "execution_count": null,
   "metadata": {},
   "outputs": [
    {
     "data": {
      "text/plain": [
       "Index(['Ano', 'Semestre', 'Concelho',\n",
       "       'Pedidos de Ligação à Rede Executados (#)', 'CodConcelho'],\n",
       "      dtype='object')"
      ]
     },
     "execution_count": 23,
     "metadata": {},
     "output_type": "execute_result"
    }
   ],
   "source": [
    "#Dataframe M1: Pedidos de ligação\n",
    "\n",
    "dfM1.columns"
   ]
  },
  {
   "cell_type": "code",
   "execution_count": 24,
   "metadata": {},
   "outputs": [
    {
     "data": {
      "text/plain": [
       "Index(['Ano', 'Mês', 'data', 'Distrito', 'Concelho', 'Freguesia',\n",
       "       'Inclui Mobilidade Elétrica', 'CPEs com DCs Recolhidos (#)',\n",
       "       'CodDistrito', 'CodDistritoConcelho', 'CodDistritoConcelhoFreguesia'],\n",
       "      dtype='object')"
      ]
     },
     "execution_count": 24,
     "metadata": {},
     "output_type": "execute_result"
    }
   ],
   "source": [
    "#Dataframe M2: Diagrama de carga por instalação\n",
    "\n",
    "dfM2.columns"
   ]
  },
  {
   "cell_type": "code",
   "execution_count": 25,
   "metadata": {},
   "outputs": [
    {
     "data": {
      "text/plain": [
       "Index(['Trimestre', 'Distrito', 'Concelho', 'Freguesia',\n",
       "       'Potência Máxima Admissível (kW)',\n",
       "       'Pontos de ligação para instalações de PCVE', 'CodDistrito',\n",
       "       'CodDistritoConcelho', 'CodDistritoConcelhoFreguesia'],\n",
       "      dtype='object')"
      ]
     },
     "execution_count": 25,
     "metadata": {},
     "output_type": "execute_result"
    }
   ],
   "source": [
    "#Datafram M3: Postos de carregamento de VE\n",
    "\n",
    "dfM3.columns"
   ]
  }
 ],
 "metadata": {
  "kernelspec": {
   "display_name": "Python 3",
   "language": "python",
   "name": "python3"
  },
  "language_info": {
   "codemirror_mode": {
    "name": "ipython",
    "version": 3
   },
   "file_extension": ".py",
   "mimetype": "text/x-python",
   "name": "python",
   "nbconvert_exporter": "python",
   "pygments_lexer": "ipython3",
   "version": "3.13.2"
  }
 },
 "nbformat": 4,
 "nbformat_minor": 2
}
