{
 "cells": [
  {
   "cell_type": "markdown",
   "metadata": {},
   "source": [
    "# Projeto 2 - E-Redes - Transição Energética\n",
    "\n",
    "Análise dos dados em bruto para detetar paadrões e formas de enriquecer os dados\n",
    "\n",
    "# Análise exploratória\n",
    "\n",
    "Indicadores:\n",
    "- Autoconsumo\n",
    "    - A1: Total de unidades de produção para autoconsumo\n",
    "    - A2: Novas unidades de produção para Autoconsumo\n",
    "    - A3: Ligações à rede\n",
    "    - A4: Total de unidades de produção para autoconsumo - Auxiliar\n",
    "\n",
    "- Energias Renováveis\n",
    "    - E1: Energia Injetada na Rede de Distribuição\n",
    "    - E2: Energia Produzida Total Nacional\n",
    "\n",
    "- Iluminação Pública\n",
    "    - **I1: Caracterização de luminárias de Iluminação Pública**\n",
    "\n",
    "            - Total de 9.434 registos;\n",
    "            - Tem 1015 valores nulos na coluna \"potência instalada\";\n",
    "            - Organizado por Distrito, concelho e/ou freguesia;\n",
    "            - Tipo de lâmpada: \n",
    "                    - Sódio;\n",
    "                    - Outros/Não definido;\n",
    "                    - LED;\n",
    "                    - Mercúrio;\n",
    "                    - Iodeto Metálico;\n",
    "                    - Indução;\n",
    "                    - Fluorescente.\n",
    "            - Tempo: Março de 2025 (?) perguntar se estes dados so começaram a ser disponibilizados em março de 2025\n",
    "\n",
    "    - **I2: Caracterização de Pontos de Consumo (CPEs), com contratos ativos**\n",
    "\n",
    "            Características dos CPEs por:\n",
    "                - Distrito, concelho ou freguesia;\n",
    "                - Tipo de instalação: Outros, Não doméstico, Doméstico e Iluminação Pública;\n",
    "                - Entre janeiro 2022 e fevereiro 2025\n",
    "    \n",
    "- Contadores inteligentes\n",
    "    - C1: Número de contratos de energia ativos por tipo de contador\n",
    "    - C2: Número de locais de consumo de baixa tensão com Leituras Remotas\n",
    "\n",
    "- Mobilidade Eléctrica\n",
    "    - M1: Novas ligações à rede associados à mobilidade elétrica\n",
    "    - M2: Número de locais de consumo de baixa tensão com recolha de Diagramas de Carga\n",
    "    - M3: Pontos de ligação para postos de Carregamento de Veículos Elétricos\n",
    "    \n",
    "    \n",
    "    \n"
   ]
  },
  {
   "cell_type": "markdown",
   "metadata": {},
   "source": [
    "# Setup\n",
    "\n",
    "Configurações para correr o código"
   ]
  },
  {
   "cell_type": "code",
   "execution_count": 2,
   "metadata": {},
   "outputs": [],
   "source": [
    "import pandas as pd \n",
    "import numpy as np \n",
    "import os "
   ]
  },
  {
   "cell_type": "code",
   "execution_count": 7,
   "metadata": {},
   "outputs": [
    {
     "name": "stdout",
     "output_type": "stream",
     "text": [
      "c:\\Files\\GIThub_projects\\ITTE\\notebooks\n"
     ]
    },
    {
     "name": "stderr",
     "output_type": "stream",
     "text": [
      "<>:4: SyntaxWarning: invalid escape sequence '\\F'\n",
      "<>:4: SyntaxWarning: invalid escape sequence '\\F'\n",
      "C:\\Users\\magda\\AppData\\Local\\Temp\\ipykernel_16536\\921853709.py:4: SyntaxWarning: invalid escape sequence '\\F'\n",
      "  os.chdir('C:\\Files\\GIThub_projects\\ITTE')  # Changes the working directory\n"
     ]
    }
   ],
   "source": [
    "# Garantir diretorias\n",
    "\n",
    "print(os.getcwd())  # Prints the current working directory\n",
    "os.chdir('C:\\Files\\GIThub_projects\\ITTE')  # Changes the working directory"
   ]
  },
  {
   "cell_type": "markdown",
   "metadata": {},
   "source": [
    "# Autoconsumo"
   ]
  },
  {
   "cell_type": "code",
   "execution_count": 26,
   "metadata": {},
   "outputs": [],
   "source": [
    "dfA1 = pd.read_csv(r'data/Autoconsumo/8-unidades-de-producao-para-autoconsumo.csv', delimiter=';')\n",
    "\n",
    "dfA2 = pd.read_csv(r'data\\Autoconsumo\\16-pedidos-concluidos-plrs.csv', delimiter = ';')\n",
    "\n",
    "dfA3 = pd.read_csv(r'data\\Autoconsumo\\26-centrais.csv', delimiter=';')\n",
    "\n",
    "dfA4 = pd.read_csv(r'data\\Autoconsumo\\total-de-unidades-de-producao-para-autoconsumo-auxiliar.csv', delimiter=';')"
   ]
  },
  {
   "cell_type": "markdown",
   "metadata": {},
   "source": [
    "# Energias Renováveis"
   ]
  },
  {
   "cell_type": "code",
   "execution_count": 27,
   "metadata": {},
   "outputs": [],
   "source": [
    "dfE1 = pd.read_csv(r'data/Energias_renovaveis/energia-injetada-na-rede-de-distribuicao.csv', delimiter=';')\n",
    "\n",
    "dfE2 = pd.read_csv(r'data/Energias_renovaveis/energia-produzida-total-nacional.csv', delimiter=';')"
   ]
  },
  {
   "cell_type": "markdown",
   "metadata": {},
   "source": [
    "# Iluminação Pública"
   ]
  },
  {
   "cell_type": "code",
   "execution_count": 31,
   "metadata": {},
   "outputs": [],
   "source": [
    "dfI1 = pd.read_csv(r'data/Iluminacao_publica/cadastro_iluminacao_publica.csv', delimiter=';')\n",
    "\n",
    "dfI2 = pd.read_csv(r'data/Iluminacao_publica/20-caracterizacao-pes-contrato-ativo.csv', delimiter=';')"
   ]
  },
  {
   "cell_type": "markdown",
   "metadata": {},
   "source": [
    "## I1 - Caracterização de luminárias de Iluminação Pública"
   ]
  },
  {
   "cell_type": "code",
   "execution_count": 63,
   "metadata": {},
   "outputs": [
    {
     "data": {
      "text/plain": [
       "(9434, 11)"
      ]
     },
     "execution_count": 63,
     "metadata": {},
     "output_type": "execute_result"
    }
   ],
   "source": [
    "dfI1.shape"
   ]
  },
  {
   "cell_type": "code",
   "execution_count": 64,
   "metadata": {},
   "outputs": [
    {
     "name": "stdout",
     "output_type": "stream",
     "text": [
      "<class 'pandas.core.frame.DataFrame'>\n",
      "RangeIndex: 9434 entries, 0 to 9433\n",
      "Data columns (total 11 columns):\n",
      " #   Column                        Non-Null Count  Dtype  \n",
      "---  ------                        --------------  -----  \n",
      " 0   ano                           9434 non-null   int64  \n",
      " 1   mes                           9434 non-null   int64  \n",
      " 2   Distrito                      9434 non-null   object \n",
      " 3   Concelho                      9434 non-null   object \n",
      " 4   Freguesia                     9434 non-null   object \n",
      " 5   tipo_de_lampada               9434 non-null   object \n",
      " 6   luminarias                    9434 non-null   float64\n",
      " 7   potencia instalada total (W)  8419 non-null   float64\n",
      " 8   CodDistrito                   9434 non-null   int64  \n",
      " 9   CodDistritoConcelho           9434 non-null   int64  \n",
      " 10  coddistritoconcelhofreguesia  9434 non-null   object \n",
      "dtypes: float64(2), int64(4), object(5)\n",
      "memory usage: 810.9+ KB\n"
     ]
    }
   ],
   "source": [
    "dfI1.info()"
   ]
  },
  {
   "cell_type": "code",
   "execution_count": 66,
   "metadata": {},
   "outputs": [
    {
     "data": {
      "text/plain": [
       "ano                                0\n",
       "mes                                0\n",
       "Distrito                           0\n",
       "Concelho                           0\n",
       "Freguesia                          0\n",
       "tipo_de_lampada                    0\n",
       "luminarias                         0\n",
       "potencia instalada total (W)    1015\n",
       "CodDistrito                        0\n",
       "CodDistritoConcelho                0\n",
       "coddistritoconcelhofreguesia       0\n",
       "dtype: int64"
      ]
     },
     "execution_count": 66,
     "metadata": {},
     "output_type": "execute_result"
    }
   ],
   "source": [
    "dfI1.isnull().sum()"
   ]
  },
  {
   "cell_type": "code",
   "execution_count": 33,
   "metadata": {},
   "outputs": [
    {
     "data": {
      "text/plain": [
       "Index(['ano', 'mes', 'Distrito', 'Concelho', 'Freguesia', 'tipo_de_lampada',\n",
       "       'luminarias', 'potencia instalada total (W)', 'CodDistrito',\n",
       "       'CodDistritoConcelho', 'coddistritoconcelhofreguesia'],\n",
       "      dtype='object')"
      ]
     },
     "execution_count": 33,
     "metadata": {},
     "output_type": "execute_result"
    }
   ],
   "source": [
    "#Dataframe: registos de iluminação pública\n",
    "dfI1.columns"
   ]
  },
  {
   "cell_type": "code",
   "execution_count": 37,
   "metadata": {},
   "outputs": [
    {
     "data": {
      "text/plain": [
       "array(['Sódio', 'Outros/Não definido', 'LED', 'Mercúrio',\n",
       "       'Iodeto Metálico', 'Indução', 'Fluorescente'], dtype=object)"
      ]
     },
     "execution_count": 37,
     "metadata": {},
     "output_type": "execute_result"
    }
   ],
   "source": [
    "# Tipos de lampada\n",
    "dfI1['tipo_de_lampada'].unique()"
   ]
  },
  {
   "cell_type": "code",
   "execution_count": 76,
   "metadata": {},
   "outputs": [
    {
     "data": {
      "text/plain": [
       "array([2025])"
      ]
     },
     "execution_count": 76,
     "metadata": {},
     "output_type": "execute_result"
    }
   ],
   "source": [
    "dfI1['ano'].unique()"
   ]
  },
  {
   "cell_type": "code",
   "execution_count": null,
   "metadata": {},
   "outputs": [
    {
     "data": {
      "text/plain": [
       "0       2025-3\n",
       "1       2025-3\n",
       "2       2025-3\n",
       "3       2025-3\n",
       "4       2025-3\n",
       "         ...  \n",
       "9429    2025-3\n",
       "9430    2025-3\n",
       "9431    2025-3\n",
       "9432    2025-3\n",
       "9433    2025-3\n",
       "Name: Data, Length: 9434, dtype: object"
      ]
     },
     "execution_count": 74,
     "metadata": {},
     "output_type": "execute_result"
    }
   ],
   "source": [
    "#Concatenar ano e mes\n",
    "dfI1['Data']=(dfI1['ano'].astype(str) \n",
    "                + '-' \n",
    "                + dfI1['mes'].astype(str))\n",
    "\n",
    "dfI1['Data']"
   ]
  },
  {
   "cell_type": "code",
   "execution_count": 75,
   "metadata": {},
   "outputs": [
    {
     "data": {
      "text/plain": [
       "array(['2025-3'], dtype=object)"
      ]
     },
     "execution_count": 75,
     "metadata": {},
     "output_type": "execute_result"
    }
   ],
   "source": [
    "dfI1['Data'].unique()"
   ]
  },
  {
   "cell_type": "markdown",
   "metadata": {},
   "source": [
    "## I2 - Caracterização de CPEs com contratos ativos"
   ]
  },
  {
   "cell_type": "code",
   "execution_count": null,
   "metadata": {},
   "outputs": [
    {
     "name": "stdout",
     "output_type": "stream",
     "text": [
      "(598165, 12)\n"
     ]
    }
   ],
   "source": [
    "dfI2.shape"
   ]
  },
  {
   "cell_type": "code",
   "execution_count": null,
   "metadata": {},
   "outputs": [
    {
     "name": "stdout",
     "output_type": "stream",
     "text": [
      "<class 'pandas.core.frame.DataFrame'>\n",
      "RangeIndex: 598165 entries, 0 to 598164\n",
      "Data columns (total 12 columns):\n",
      " #   Column                        Non-Null Count   Dtype \n",
      "---  ------                        --------------   ----- \n",
      " 0   Ano                           598165 non-null  int64 \n",
      " 1   mes                           598165 non-null  int64 \n",
      " 2   Data                          598165 non-null  object\n",
      " 3   Distrito                      598165 non-null  object\n",
      " 4   Concelho                      598165 non-null  object\n",
      " 5   Freguesia                     598165 non-null  object\n",
      " 6   tipo_de_instalacao            598165 non-null  object\n",
      " 7   nivel_de_tensao               598165 non-null  object\n",
      " 8   cpes                          598165 non-null  int64 \n",
      " 9   CodDistrito                   598165 non-null  int64 \n",
      " 10  CodDistritoConcelho           598165 non-null  int64 \n",
      " 11  coddistritoconcelhofreguesia  598165 non-null  object\n",
      "dtypes: int64(5), object(7)\n",
      "memory usage: 54.8+ MB\n",
      "None\n"
     ]
    }
   ],
   "source": [
    "dfI2.info()"
   ]
  },
  {
   "cell_type": "code",
   "execution_count": 67,
   "metadata": {},
   "outputs": [
    {
     "data": {
      "text/plain": [
       "Ano                             0\n",
       "mes                             0\n",
       "Data                            0\n",
       "Distrito                        0\n",
       "Concelho                        0\n",
       "Freguesia                       0\n",
       "tipo_de_instalacao              0\n",
       "nivel_de_tensao                 0\n",
       "cpes                            0\n",
       "CodDistrito                     0\n",
       "CodDistritoConcelho             0\n",
       "coddistritoconcelhofreguesia    0\n",
       "dtype: int64"
      ]
     },
     "execution_count": 67,
     "metadata": {},
     "output_type": "execute_result"
    }
   ],
   "source": [
    "dfI2.isnull().sum()"
   ]
  },
  {
   "cell_type": "code",
   "execution_count": 38,
   "metadata": {},
   "outputs": [
    {
     "data": {
      "text/plain": [
       "array(['Outros', 'Não Doméstico', 'Doméstico', 'Iluminação Pública'],\n",
       "      dtype=object)"
      ]
     },
     "execution_count": 38,
     "metadata": {},
     "output_type": "execute_result"
    }
   ],
   "source": [
    "dfI2['tipo_de_instalacao'].unique()"
   ]
  },
  {
   "cell_type": "code",
   "execution_count": 61,
   "metadata": {},
   "outputs": [
    {
     "data": {
      "text/plain": [
       "array(['2022-08', '2024-12', '2024-02', '2022-05', '2022-01', '2024-11',\n",
       "       '2024-05', '2024-08', '2024-06', '2024-10', '2022-10', '2022-06',\n",
       "       '2023-06', '2023-05', '2023-02', '2023-03', '2024-07', '2022-03',\n",
       "       '2023-07', '2024-01', '2023-01', '2025-01', '2022-12', '2024-09',\n",
       "       '2023-04', '2022-04', '2025-02', '2023-11', '2022-09', '2024-04',\n",
       "       '2023-08', '2022-11', '2023-12', '2023-09', '2022-07', '2022-02',\n",
       "       '2024-03', '2023-10'], dtype=object)"
      ]
     },
     "execution_count": 61,
     "metadata": {},
     "output_type": "execute_result"
    }
   ],
   "source": [
    "dfI2['Data'].unique()\n"
   ]
  },
  {
   "cell_type": "code",
   "execution_count": 62,
   "metadata": {},
   "outputs": [
    {
     "data": {
      "text/html": [
       "<div>\n",
       "<style scoped>\n",
       "    .dataframe tbody tr th:only-of-type {\n",
       "        vertical-align: middle;\n",
       "    }\n",
       "\n",
       "    .dataframe tbody tr th {\n",
       "        vertical-align: top;\n",
       "    }\n",
       "\n",
       "    .dataframe thead th {\n",
       "        text-align: right;\n",
       "    }\n",
       "</style>\n",
       "<table border=\"1\" class=\"dataframe\">\n",
       "  <thead>\n",
       "    <tr style=\"text-align: right;\">\n",
       "      <th></th>\n",
       "      <th>Ano</th>\n",
       "      <th>mes</th>\n",
       "      <th>Data</th>\n",
       "      <th>Distrito</th>\n",
       "      <th>Concelho</th>\n",
       "      <th>Freguesia</th>\n",
       "      <th>tipo_de_instalacao</th>\n",
       "      <th>nivel_de_tensao</th>\n",
       "      <th>cpes</th>\n",
       "      <th>CodDistrito</th>\n",
       "      <th>CodDistritoConcelho</th>\n",
       "      <th>coddistritoconcelhofreguesia</th>\n",
       "    </tr>\n",
       "  </thead>\n",
       "  <tbody>\n",
       "    <tr>\n",
       "      <th>227902</th>\n",
       "      <td>2022</td>\n",
       "      <td>1</td>\n",
       "      <td>2022-01</td>\n",
       "      <td>Santarém</td>\n",
       "      <td>Torres Novas</td>\n",
       "      <td>Torres Novas (São Pedro), Lapas e Ribeira Branca</td>\n",
       "      <td>Não Doméstico</td>\n",
       "      <td>Baixa Tensão Normal</td>\n",
       "      <td>831</td>\n",
       "      <td>14</td>\n",
       "      <td>1419</td>\n",
       "      <td>141921</td>\n",
       "    </tr>\n",
       "    <tr>\n",
       "      <th>305436</th>\n",
       "      <td>2022</td>\n",
       "      <td>1</td>\n",
       "      <td>2022-01</td>\n",
       "      <td>Santarém</td>\n",
       "      <td>Alcanena</td>\n",
       "      <td>Serra de Santo António</td>\n",
       "      <td>Doméstico</td>\n",
       "      <td>Baixa Tensão Normal</td>\n",
       "      <td>394</td>\n",
       "      <td>14</td>\n",
       "      <td>1402</td>\n",
       "      <td>140209</td>\n",
       "    </tr>\n",
       "    <tr>\n",
       "      <th>305437</th>\n",
       "      <td>2022</td>\n",
       "      <td>1</td>\n",
       "      <td>2022-01</td>\n",
       "      <td>Viseu</td>\n",
       "      <td>Moimenta da Beira</td>\n",
       "      <td>Pêra Velha, Aldeia de Nacomba e Ariz</td>\n",
       "      <td>Iluminação Pública</td>\n",
       "      <td>Baixa Tensão Normal</td>\n",
       "      <td>5</td>\n",
       "      <td>18</td>\n",
       "      <td>1807</td>\n",
       "      <td>180722</td>\n",
       "    </tr>\n",
       "    <tr>\n",
       "      <th>305438</th>\n",
       "      <td>2022</td>\n",
       "      <td>1</td>\n",
       "      <td>2022-01</td>\n",
       "      <td>Viseu</td>\n",
       "      <td>Armamar</td>\n",
       "      <td>Aldeias</td>\n",
       "      <td>Iluminação Pública</td>\n",
       "      <td>Baixa Tensão Normal</td>\n",
       "      <td>3</td>\n",
       "      <td>18</td>\n",
       "      <td>1801</td>\n",
       "      <td>180101</td>\n",
       "    </tr>\n",
       "    <tr>\n",
       "      <th>305439</th>\n",
       "      <td>2022</td>\n",
       "      <td>1</td>\n",
       "      <td>2022-01</td>\n",
       "      <td>Aveiro</td>\n",
       "      <td>Arouca</td>\n",
       "      <td>Fermedo</td>\n",
       "      <td>Não Doméstico</td>\n",
       "      <td>Baixa Tensão Normal</td>\n",
       "      <td>115</td>\n",
       "      <td>1</td>\n",
       "      <td>104</td>\n",
       "      <td>010411</td>\n",
       "    </tr>\n",
       "  </tbody>\n",
       "</table>\n",
       "</div>"
      ],
      "text/plain": [
       "         Ano  mes     Data  Distrito           Concelho  \\\n",
       "227902  2022    1  2022-01  Santarém       Torres Novas   \n",
       "305436  2022    1  2022-01  Santarém           Alcanena   \n",
       "305437  2022    1  2022-01     Viseu  Moimenta da Beira   \n",
       "305438  2022    1  2022-01     Viseu            Armamar   \n",
       "305439  2022    1  2022-01    Aveiro             Arouca   \n",
       "\n",
       "                                               Freguesia  tipo_de_instalacao  \\\n",
       "227902  Torres Novas (São Pedro), Lapas e Ribeira Branca       Não Doméstico   \n",
       "305436                            Serra de Santo António           Doméstico   \n",
       "305437              Pêra Velha, Aldeia de Nacomba e Ariz  Iluminação Pública   \n",
       "305438                                           Aldeias  Iluminação Pública   \n",
       "305439                                           Fermedo       Não Doméstico   \n",
       "\n",
       "            nivel_de_tensao  cpes  CodDistrito  CodDistritoConcelho  \\\n",
       "227902  Baixa Tensão Normal   831           14                 1419   \n",
       "305436  Baixa Tensão Normal   394           14                 1402   \n",
       "305437  Baixa Tensão Normal     5           18                 1807   \n",
       "305438  Baixa Tensão Normal     3           18                 1801   \n",
       "305439  Baixa Tensão Normal   115            1                  104   \n",
       "\n",
       "       coddistritoconcelhofreguesia  \n",
       "227902                       141921  \n",
       "305436                       140209  \n",
       "305437                       180722  \n",
       "305438                       180101  \n",
       "305439                       010411  "
      ]
     },
     "execution_count": 62,
     "metadata": {},
     "output_type": "execute_result"
    }
   ],
   "source": [
    "dfI2 = dfI2.sort_values(by='Data')\n",
    "\n",
    "dfI2.head(5)"
   ]
  },
  {
   "cell_type": "markdown",
   "metadata": {},
   "source": [
    "# Contadores inteligentes"
   ]
  },
  {
   "cell_type": "code",
   "execution_count": 17,
   "metadata": {},
   "outputs": [],
   "source": [
    "dfC1=pd.read_csv(r'data\\Contadores_inteligentes\\21-contadores-de-energia.csv', delimiter=';')\n",
    "\n",
    "dfC2=pd.read_csv(r'data/Contadores_inteligentes/23-leituras-recolhidas-remotamente.csv', delimiter=';')"
   ]
  },
  {
   "cell_type": "code",
   "execution_count": 20,
   "metadata": {},
   "outputs": [
    {
     "data": {
      "text/plain": [
       "Index(['Ano', 'Mês', 'Data', 'Distrito', 'Concelho', 'Freguesia',\n",
       "       'Inclui contador inteligente', 'Número de CPE's', 'Código Distrito',\n",
       "       'Código Concelho', 'Código Freguesia', 'Contrato Ativo'],\n",
       "      dtype='object')"
      ]
     },
     "execution_count": 20,
     "metadata": {},
     "output_type": "execute_result"
    }
   ],
   "source": [
    "# Dataframe C1: Contadores de energia\n",
    "dfC1.columns"
   ]
  },
  {
   "cell_type": "code",
   "execution_count": 21,
   "metadata": {},
   "outputs": [
    {
     "data": {
      "text/plain": [
       "Index(['Ano', 'Mes', 'data', 'Distrito', 'Concelho', 'Freguesia',\n",
       "       'CPEs com Leituras (#)', 'CodDistrito', 'CodDistritoConcelho',\n",
       "       'CodDistritoConcelhoFreguesia'],\n",
       "      dtype='object')"
      ]
     },
     "execution_count": 21,
     "metadata": {},
     "output_type": "execute_result"
    }
   ],
   "source": [
    "# Dataframe C2: Leituras recolhidas remotamente\n",
    "dfC2.columns"
   ]
  },
  {
   "cell_type": "markdown",
   "metadata": {},
   "source": [
    "# Mobilidade Eléctrica"
   ]
  },
  {
   "cell_type": "code",
   "execution_count": 22,
   "metadata": {},
   "outputs": [],
   "source": [
    "dfM1 = pd.read_csv(r'data/Mobilidade_eletrica/9-plr-mobilidade-eletrica.csv',delimiter=';')\n",
    "\n",
    "dfM2 = pd.read_csv(r'data\\Mobilidade_eletrica\\22-diagrama-de-carga-por-instalacao.csv',delimiter=';')\n",
    "\n",
    "dfM3 = pd.read_csv(r'data/Mobilidade_eletrica/postos_carregamento_ves.csv',delimiter=';')"
   ]
  },
  {
   "cell_type": "code",
   "execution_count": 23,
   "metadata": {},
   "outputs": [
    {
     "data": {
      "text/plain": [
       "Index(['Ano', 'Semestre', 'Concelho',\n",
       "       'Pedidos de Ligação à Rede Executados (#)', 'CodConcelho'],\n",
       "      dtype='object')"
      ]
     },
     "execution_count": 23,
     "metadata": {},
     "output_type": "execute_result"
    }
   ],
   "source": [
    "#Dataframe M1: Pedidos de ligação\n",
    "\n",
    "dfM1.columns"
   ]
  },
  {
   "cell_type": "code",
   "execution_count": 24,
   "metadata": {},
   "outputs": [
    {
     "data": {
      "text/plain": [
       "Index(['Ano', 'Mês', 'data', 'Distrito', 'Concelho', 'Freguesia',\n",
       "       'Inclui Mobilidade Elétrica', 'CPEs com DCs Recolhidos (#)',\n",
       "       'CodDistrito', 'CodDistritoConcelho', 'CodDistritoConcelhoFreguesia'],\n",
       "      dtype='object')"
      ]
     },
     "execution_count": 24,
     "metadata": {},
     "output_type": "execute_result"
    }
   ],
   "source": [
    "#Dataframe M2: Diagrama de carga por instalação\n",
    "\n",
    "dfM2.columns"
   ]
  },
  {
   "cell_type": "code",
   "execution_count": 25,
   "metadata": {},
   "outputs": [
    {
     "data": {
      "text/plain": [
       "Index(['Trimestre', 'Distrito', 'Concelho', 'Freguesia',\n",
       "       'Potência Máxima Admissível (kW)',\n",
       "       'Pontos de ligação para instalações de PCVE', 'CodDistrito',\n",
       "       'CodDistritoConcelho', 'CodDistritoConcelhoFreguesia'],\n",
       "      dtype='object')"
      ]
     },
     "execution_count": 25,
     "metadata": {},
     "output_type": "execute_result"
    }
   ],
   "source": [
    "#Datafram M3: Postos de carregamento de VE\n",
    "\n",
    "dfM3.columns"
   ]
  }
 ],
 "metadata": {
  "kernelspec": {
   "display_name": "Python 3",
   "language": "python",
   "name": "python3"
  },
  "language_info": {
   "codemirror_mode": {
    "name": "ipython",
    "version": 3
   },
   "file_extension": ".py",
   "mimetype": "text/x-python",
   "name": "python",
   "nbconvert_exporter": "python",
   "pygments_lexer": "ipython3",
   "version": "3.13.2"
  }
 },
 "nbformat": 4,
 "nbformat_minor": 2
}
